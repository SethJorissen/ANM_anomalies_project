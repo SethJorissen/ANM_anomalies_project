{
  "nbformat": 4,
  "nbformat_minor": 0,
  "metadata": {
    "colab": {
      "provenance": [],
      "include_colab_link": true
    },
    "kernelspec": {
      "name": "python3",
      "display_name": "Python 3"
    },
    "language_info": {
      "name": "python"
    }
  },
  "cells": [
    {
      "cell_type": "markdown",
      "metadata": {
        "id": "view-in-github",
        "colab_type": "text"
      },
      "source": [
        "<a href=\"https://colab.research.google.com/github/SethJorissen/ANM_anomalies_project/blob/main/ANM_anomalies_project.ipynb\" target=\"_parent\"><img src=\"https://colab.research.google.com/assets/colab-badge.svg\" alt=\"Open In Colab\"/></a>"
      ]
    },
    {
      "cell_type": "markdown",
      "source": [
        "# ANM anomaly detection project\n",
        "\n",
        "Tsinghua 2023, produced by Aris Dressino and Seth Jorissen"
      ],
      "metadata": {
        "id": "bc-AMi2ZfiCU"
      }
    },
    {
      "cell_type": "markdown",
      "source": [
        "## 1. initial set up\n",
        "\n",
        "- fetch data for analysis\n",
        "- import needed libraries"
      ],
      "metadata": {
        "id": "TYdi1CnWf-hf"
      }
    },
    {
      "cell_type": "code",
      "execution_count": 18,
      "metadata": {
        "id": "bbrbhLhClVDi"
      },
      "outputs": [],
      "source": [
        "# fetch phase 1 data from github to colab working directory - run once\n",
        "# consider using another method if working from local client\n",
        "%%capture\n",
        "#import shutil\n",
        "#shutil.rmtree('/content/phase1')\n",
        "!svn checkout https://github.com/SethJorissen/ANM_anomalies_project/trunk/phase1"
      ]
    },
    {
      "cell_type": "code",
      "source": [
        "# needed libraries\n",
        "import pandas as pd"
      ],
      "metadata": {
        "id": "C6xcu4Z1fhiF"
      },
      "execution_count": null,
      "outputs": []
    },
    {
      "cell_type": "markdown",
      "source": [
        "##2. Exploratory data analysis\n",
        "\n",
        "- import train and test deta for evaluation\n",
        "- provide summary statistics and relevant analysis of the data\n",
        "\n"
      ],
      "metadata": {
        "id": "nPZG5bD6gOHr"
      }
    },
    {
      "cell_type": "code",
      "source": [],
      "metadata": {
        "id": "Rajsb9K6g9K4"
      },
      "execution_count": null,
      "outputs": []
    },
    {
      "cell_type": "markdown",
      "source": [
        "##3. Anomaly Detection Model\n",
        "\n",
        "- train the selected model\n",
        "- provide metrics design"
      ],
      "metadata": {
        "id": "IXBN59-Tgo0y"
      }
    },
    {
      "cell_type": "code",
      "source": [],
      "metadata": {
        "id": "k8Ajfydeg-Xc"
      },
      "execution_count": null,
      "outputs": []
    },
    {
      "cell_type": "markdown",
      "source": [
        "##4. evaluation, prediction and metrics\n",
        "\n",
        "- evaluate test set predictions\n",
        "- define KPIs and relevant metrics\n",
        "- create info-dashboard explaining the findings"
      ],
      "metadata": {
        "id": "tfMex_Pog-0V"
      }
    },
    {
      "cell_type": "code",
      "source": [],
      "metadata": {
        "id": "uygD8yYChOnz"
      },
      "execution_count": null,
      "outputs": []
    }
  ]
}